{
 "cells": [
  {
   "cell_type": "markdown",
   "metadata": {},
   "source": [
    "# Background"
   ]
  },
  {
   "cell_type": "markdown",
   "metadata": {},
   "source": [
    "Key Objectives:\n",
    "- Predict number of Likes"
   ]
  },
  {
   "cell_type": "markdown",
   "metadata": {},
   "source": [
    "# Import Libraries and Data"
   ]
  },
  {
   "cell_type": "code",
   "execution_count": 36,
   "metadata": {
    "ExecuteTime": {
     "end_time": "2019-12-12T10:26:08.075100Z",
     "start_time": "2019-12-12T10:26:08.071437Z"
    }
   },
   "outputs": [],
   "source": [
    "import pandas as pd\n",
    "import numpy as np\n",
    "import re\n",
    "import swifter\n",
    "from datetime import datetime\n",
    "\n",
    "import matplotlib.pyplot as plt\n",
    "from matplotlib.dates import DateFormatter\n",
    "import matplotlib.dates as mdates\n",
    "\n",
    "from sklearn.model_selection import train_test_split\n",
    "from sklearn.feature_extraction.text import TfidfVectorizer, CountVectorizer\n",
    "from sklearn.metrics import mean_absolute_error\n",
    "\n",
    "from xgboost import XGBRegressor\n"
   ]
  },
  {
   "cell_type": "code",
   "execution_count": 3,
   "metadata": {
    "ExecuteTime": {
     "end_time": "2019-12-12T10:11:32.648654Z",
     "start_time": "2019-12-12T10:11:32.631575Z"
    }
   },
   "outputs": [],
   "source": [
    "df = pd.read_csv('../../data/raw/df_sim_confessions_250816_091219.csv', index_col=[0], encoding='utf-8')"
   ]
  },
  {
   "cell_type": "code",
   "execution_count": 4,
   "metadata": {
    "ExecuteTime": {
     "end_time": "2019-12-12T10:11:33.729005Z",
     "start_time": "2019-12-12T10:11:33.723588Z"
    }
   },
   "outputs": [
    {
     "data": {
      "text/plain": [
       "(2195, 10)"
      ]
     },
     "execution_count": 4,
     "metadata": {},
     "output_type": "execute_result"
    }
   ],
   "source": [
    "df.shape"
   ]
  },
  {
   "cell_type": "code",
   "execution_count": 5,
   "metadata": {
    "ExecuteTime": {
     "end_time": "2019-12-12T10:11:34.006340Z",
     "start_time": "2019-12-12T10:11:33.993759Z"
    }
   },
   "outputs": [
    {
     "data": {
      "text/html": [
       "<div>\n",
       "<style scoped>\n",
       "    .dataframe tbody tr th:only-of-type {\n",
       "        vertical-align: middle;\n",
       "    }\n",
       "\n",
       "    .dataframe tbody tr th {\n",
       "        vertical-align: top;\n",
       "    }\n",
       "\n",
       "    .dataframe thead th {\n",
       "        text-align: right;\n",
       "    }\n",
       "</style>\n",
       "<table border=\"1\" class=\"dataframe\">\n",
       "  <thead>\n",
       "    <tr style=\"text-align: right;\">\n",
       "      <th></th>\n",
       "      <th>post_id</th>\n",
       "      <th>text</th>\n",
       "      <th>shared_text</th>\n",
       "      <th>time</th>\n",
       "      <th>image</th>\n",
       "      <th>likes</th>\n",
       "      <th>comments</th>\n",
       "      <th>shares</th>\n",
       "      <th>post_url</th>\n",
       "      <th>link</th>\n",
       "    </tr>\n",
       "  </thead>\n",
       "  <tbody>\n",
       "    <tr>\n",
       "      <td>0</td>\n",
       "      <td>2943545019041164</td>\n",
       "      <td>#SIMConfession173963\\n\"Tutorial how to disting...</td>\n",
       "      <td>NaN</td>\n",
       "      <td>2019-12-09 07:38:02</td>\n",
       "      <td>NaN</td>\n",
       "      <td>8</td>\n",
       "      <td>0</td>\n",
       "      <td>0</td>\n",
       "      <td>https://m.facebook.com/story.php?story_fbid=29...</td>\n",
       "      <td>NaN</td>\n",
       "    </tr>\n",
       "    <tr>\n",
       "      <td>1</td>\n",
       "      <td>2943544282374571</td>\n",
       "      <td>#SIMConfession173962\\n\"Roses are red\\nViolet a...</td>\n",
       "      <td>NaN</td>\n",
       "      <td>2019-12-09 07:37:23</td>\n",
       "      <td>NaN</td>\n",
       "      <td>0</td>\n",
       "      <td>0</td>\n",
       "      <td>0</td>\n",
       "      <td>https://m.facebook.com/story.php?story_fbid=29...</td>\n",
       "      <td>NaN</td>\n",
       "    </tr>\n",
       "    <tr>\n",
       "      <td>2</td>\n",
       "      <td>2943543449041321</td>\n",
       "      <td>#SIMConfession173961\\n\"To all the girls out th...</td>\n",
       "      <td>NaN</td>\n",
       "      <td>2019-12-09 07:36:45</td>\n",
       "      <td>NaN</td>\n",
       "      <td>13</td>\n",
       "      <td>6</td>\n",
       "      <td>0</td>\n",
       "      <td>https://m.facebook.com/story.php?story_fbid=29...</td>\n",
       "      <td>NaN</td>\n",
       "    </tr>\n",
       "    <tr>\n",
       "      <td>3</td>\n",
       "      <td>2943542289041437</td>\n",
       "      <td>#SIMConfession173960\\nHoping for the day when ...</td>\n",
       "      <td>NaN</td>\n",
       "      <td>2019-12-09 07:35:51</td>\n",
       "      <td>NaN</td>\n",
       "      <td>0</td>\n",
       "      <td>0</td>\n",
       "      <td>0</td>\n",
       "      <td>https://m.facebook.com/story.php?story_fbid=29...</td>\n",
       "      <td>NaN</td>\n",
       "    </tr>\n",
       "    <tr>\n",
       "      <td>4</td>\n",
       "      <td>2943539142375085</td>\n",
       "      <td>#SIMConfession173959\\n\"https://mustsharenews.c...</td>\n",
       "      <td>MUSTSHARENEWS.COM\\nS'pore Company Looking For ...</td>\n",
       "      <td>2019-12-09 07:33:43</td>\n",
       "      <td>https://external.fsin5-1.fna.fbcdn.net/safe_im...</td>\n",
       "      <td>3</td>\n",
       "      <td>0</td>\n",
       "      <td>0</td>\n",
       "      <td>https://m.facebook.com/story.php?story_fbid=29...</td>\n",
       "      <td>https://mustsharenews.com/cleaner-degree/</td>\n",
       "    </tr>\n",
       "  </tbody>\n",
       "</table>\n",
       "</div>"
      ],
      "text/plain": [
       "            post_id                                               text  \\\n",
       "0  2943545019041164  #SIMConfession173963\\n\"Tutorial how to disting...   \n",
       "1  2943544282374571  #SIMConfession173962\\n\"Roses are red\\nViolet a...   \n",
       "2  2943543449041321  #SIMConfession173961\\n\"To all the girls out th...   \n",
       "3  2943542289041437  #SIMConfession173960\\nHoping for the day when ...   \n",
       "4  2943539142375085  #SIMConfession173959\\n\"https://mustsharenews.c...   \n",
       "\n",
       "                                         shared_text                 time  \\\n",
       "0                                                NaN  2019-12-09 07:38:02   \n",
       "1                                                NaN  2019-12-09 07:37:23   \n",
       "2                                                NaN  2019-12-09 07:36:45   \n",
       "3                                                NaN  2019-12-09 07:35:51   \n",
       "4  MUSTSHARENEWS.COM\\nS'pore Company Looking For ...  2019-12-09 07:33:43   \n",
       "\n",
       "                                               image  likes  comments  shares  \\\n",
       "0                                                NaN      8         0       0   \n",
       "1                                                NaN      0         0       0   \n",
       "2                                                NaN     13         6       0   \n",
       "3                                                NaN      0         0       0   \n",
       "4  https://external.fsin5-1.fna.fbcdn.net/safe_im...      3         0       0   \n",
       "\n",
       "                                            post_url  \\\n",
       "0  https://m.facebook.com/story.php?story_fbid=29...   \n",
       "1  https://m.facebook.com/story.php?story_fbid=29...   \n",
       "2  https://m.facebook.com/story.php?story_fbid=29...   \n",
       "3  https://m.facebook.com/story.php?story_fbid=29...   \n",
       "4  https://m.facebook.com/story.php?story_fbid=29...   \n",
       "\n",
       "                                        link  \n",
       "0                                        NaN  \n",
       "1                                        NaN  \n",
       "2                                        NaN  \n",
       "3                                        NaN  \n",
       "4  https://mustsharenews.com/cleaner-degree/  "
      ]
     },
     "execution_count": 5,
     "metadata": {},
     "output_type": "execute_result"
    }
   ],
   "source": [
    "df.head()"
   ]
  },
  {
   "cell_type": "markdown",
   "metadata": {},
   "source": [
    "# Preprocessing"
   ]
  },
  {
   "cell_type": "code",
   "execution_count": 9,
   "metadata": {},
   "outputs": [],
   "source": [
    "def deEmojify(text):\n",
    "    return text.encode('ascii', 'ignore').decode('ascii')\n",
    "\n",
    "def clean_text(text):\n",
    "    text = text.replace(\"”\",\"'\")\n",
    "    text = text.replace(\"“\",\"'\")\n",
    "    text = deEmojify(text)\n",
    "    return text\n",
    "\n",
    "def preprocess_full(text):\n",
    "    text = clean_text(text)\n",
    "#     text = text.replace('\\n', ' ')\n",
    "    filtered_text = re.findall('(?<=\\#simconfession\\d{6}).*$', text.replace('\\n', ' '), re.MULTILINE|re.I)\n",
    "    if filtered_text:\n",
    "        return filtered_text[0]\n",
    "    else:\n",
    "        return ''"
   ]
  },
  {
   "cell_type": "code",
   "execution_count": 10,
   "metadata": {},
   "outputs": [],
   "source": [
    "df['text'] = df['text'].astype(str)"
   ]
  },
  {
   "cell_type": "code",
   "execution_count": 11,
   "metadata": {
    "scrolled": true
   },
   "outputs": [
    {
     "name": "stderr",
     "output_type": "stream",
     "text": [
      "C:\\Users\\longwind48\\Anaconda3\\envs\\projectx-env\\lib\\site-packages\\tqdm\\std.py:648: FutureWarning: The Panel class is removed from pandas. Accessing it from the top-level namespace will also be removed in the next version\n",
      "  from pandas import Panel\n"
     ]
    },
    {
     "data": {
      "application/vnd.jupyter.widget-view+json": {
       "model_id": "2455e8ae18b444e1acdb6a817d2e8dea",
       "version_major": 2,
       "version_minor": 0
      },
      "text/plain": [
       "HBox(children=(IntProgress(value=0, description='Pandas Apply', max=2195, style=ProgressStyle(description_widt…"
      ]
     },
     "metadata": {},
     "output_type": "display_data"
    },
    {
     "name": "stdout",
     "output_type": "stream",
     "text": [
      "\n"
     ]
    }
   ],
   "source": [
    "df['text'] = df['text'].swifter.apply(lambda x:  preprocess_full(x))"
   ]
  },
  {
   "cell_type": "markdown",
   "metadata": {},
   "source": [
    "# Train Test Split"
   ]
  },
  {
   "cell_type": "code",
   "execution_count": 17,
   "metadata": {
    "ExecuteTime": {
     "end_time": "2019-12-12T10:14:43.293281Z",
     "start_time": "2019-12-12T10:14:43.286673Z"
    }
   },
   "outputs": [
    {
     "data": {
      "text/plain": [
       "post_id           0\n",
       "text              3\n",
       "shared_text    1510\n",
       "time              0\n",
       "image          1503\n",
       "likes             0\n",
       "comments          0\n",
       "shares            0\n",
       "post_url          7\n",
       "link           1510\n",
       "dtype: int64"
      ]
     },
     "execution_count": 17,
     "metadata": {},
     "output_type": "execute_result"
    }
   ],
   "source": [
    "df_train.isnull().sum()"
   ]
  },
  {
   "cell_type": "code",
   "execution_count": 19,
   "metadata": {
    "ExecuteTime": {
     "end_time": "2019-12-12T10:15:32.520793Z",
     "start_time": "2019-12-12T10:15:32.512309Z"
    }
   },
   "outputs": [],
   "source": [
    "df.dropna(subset=['text'], inplace=True)\n",
    "\n",
    "df_train, df_test = train_test_split(df, \n",
    "                                     test_size=0.3, \n",
    "                                     random_state=123)"
   ]
  },
  {
   "cell_type": "markdown",
   "metadata": {},
   "source": [
    "# Text Vectorization"
   ]
  },
  {
   "cell_type": "code",
   "execution_count": 20,
   "metadata": {
    "ExecuteTime": {
     "end_time": "2019-12-12T10:15:33.644812Z",
     "start_time": "2019-12-12T10:15:33.641580Z"
    }
   },
   "outputs": [],
   "source": [
    "X_train = df_train[\"text\"]\n",
    "\n",
    "y_test = df_test['likes']\n",
    "X_test = df_test[\"text\"]\n",
    "\n",
    "y_train = df_train['likes'].values"
   ]
  },
  {
   "cell_type": "code",
   "execution_count": 37,
   "metadata": {
    "ExecuteTime": {
     "end_time": "2019-12-12T10:26:15.121912Z",
     "start_time": "2019-12-12T10:26:15.119271Z"
    }
   },
   "outputs": [],
   "source": [
    "cvec = CountVectorizer()\n"
   ]
  },
  {
   "cell_type": "code",
   "execution_count": 38,
   "metadata": {
    "ExecuteTime": {
     "end_time": "2019-12-12T10:26:34.500808Z",
     "start_time": "2019-12-12T10:26:34.425674Z"
    }
   },
   "outputs": [],
   "source": [
    "# X_train_tfidf = tvec.fit_transform(X_train)\n",
    "X_train_cvec = cvec.fit_transform(X_train)"
   ]
  },
  {
   "cell_type": "markdown",
   "metadata": {},
   "source": [
    "# Modelling"
   ]
  },
  {
   "cell_type": "code",
   "execution_count": 24,
   "metadata": {
    "ExecuteTime": {
     "end_time": "2019-12-12T10:21:49.239108Z",
     "start_time": "2019-12-12T10:21:49.236316Z"
    }
   },
   "outputs": [],
   "source": [
    "model = XGBRegressor()"
   ]
  },
  {
   "cell_type": "code",
   "execution_count": 39,
   "metadata": {
    "ExecuteTime": {
     "end_time": "2019-12-12T10:26:51.036086Z",
     "start_time": "2019-12-12T10:26:48.443740Z"
    }
   },
   "outputs": [
    {
     "name": "stdout",
     "output_type": "stream",
     "text": [
      "[18:26:48] WARNING: src/objective/regression_obj.cu:152: reg:linear is now deprecated in favor of reg:squarederror.\n"
     ]
    },
    {
     "data": {
      "text/plain": [
       "XGBRegressor(base_score=0.5, booster='gbtree', colsample_bylevel=1,\n",
       "             colsample_bynode=1, colsample_bytree=1, gamma=0,\n",
       "             importance_type='gain', learning_rate=0.1, max_delta_step=0,\n",
       "             max_depth=3, min_child_weight=1, missing=None, n_estimators=100,\n",
       "             n_jobs=1, nthread=None, objective='reg:linear', random_state=0,\n",
       "             reg_alpha=0, reg_lambda=1, scale_pos_weight=1, seed=None,\n",
       "             silent=None, subsample=1, verbosity=1)"
      ]
     },
     "execution_count": 39,
     "metadata": {},
     "output_type": "execute_result"
    }
   ],
   "source": [
    "# model.fit(X_train_tfidf, y_train)\n",
    "model.fit(X_train_cvec, y_train)"
   ]
  },
  {
   "cell_type": "code",
   "execution_count": 40,
   "metadata": {
    "ExecuteTime": {
     "end_time": "2019-12-12T10:27:09.181497Z",
     "start_time": "2019-12-12T10:27:09.140350Z"
    }
   },
   "outputs": [],
   "source": [
    "y_pred = model.predict(cvec.transform(X_test))"
   ]
  },
  {
   "cell_type": "markdown",
   "metadata": {},
   "source": [
    "# Evaluation"
   ]
  },
  {
   "cell_type": "code",
   "execution_count": 41,
   "metadata": {
    "ExecuteTime": {
     "end_time": "2019-12-12T10:27:10.092221Z",
     "start_time": "2019-12-12T10:27:10.087642Z"
    }
   },
   "outputs": [
    {
     "data": {
      "text/plain": [
       "4.478113117370199"
      ]
     },
     "execution_count": 41,
     "metadata": {},
     "output_type": "execute_result"
    }
   ],
   "source": [
    "mean_absolute_error(y_test, y_pred)"
   ]
  },
  {
   "cell_type": "markdown",
   "metadata": {},
   "source": [
    "# Inference"
   ]
  },
  {
   "cell_type": "code",
   "execution_count": 42,
   "metadata": {
    "ExecuteTime": {
     "end_time": "2019-12-12T10:27:11.487533Z",
     "start_time": "2019-12-12T10:27:11.479229Z"
    }
   },
   "outputs": [
    {
     "data": {
      "text/plain": [
       "array([2.0729165], dtype=float32)"
      ]
     },
     "execution_count": 42,
     "metadata": {},
     "output_type": "execute_result"
    }
   ],
   "source": [
    "model.predict(tvec.transform(['asdfa sdfasd ']))"
   ]
  },
  {
   "cell_type": "code",
   "execution_count": null,
   "metadata": {},
   "outputs": [],
   "source": []
  }
 ],
 "metadata": {
  "hide_input": false,
  "kernelspec": {
   "display_name": "Python 3",
   "language": "python",
   "name": "python3"
  },
  "language_info": {
   "codemirror_mode": {
    "name": "ipython",
    "version": 3
   },
   "file_extension": ".py",
   "mimetype": "text/x-python",
   "name": "python",
   "nbconvert_exporter": "python",
   "pygments_lexer": "ipython3",
   "version": "3.7.4"
  },
  "toc": {
   "base_numbering": 1,
   "nav_menu": {},
   "number_sections": true,
   "sideBar": true,
   "skip_h1_title": false,
   "title_cell": "Table of Contents",
   "title_sidebar": "Contents",
   "toc_cell": false,
   "toc_position": {},
   "toc_section_display": true,
   "toc_window_display": false
  },
  "varInspector": {
   "cols": {
    "lenName": 16,
    "lenType": 16,
    "lenVar": 40
   },
   "kernels_config": {
    "python": {
     "delete_cmd_postfix": "",
     "delete_cmd_prefix": "del ",
     "library": "var_list.py",
     "varRefreshCmd": "print(var_dic_list())"
    },
    "r": {
     "delete_cmd_postfix": ") ",
     "delete_cmd_prefix": "rm(",
     "library": "var_list.r",
     "varRefreshCmd": "cat(var_dic_list()) "
    }
   },
   "types_to_exclude": [
    "module",
    "function",
    "builtin_function_or_method",
    "instance",
    "_Feature"
   ],
   "window_display": false
  }
 },
 "nbformat": 4,
 "nbformat_minor": 2
}
